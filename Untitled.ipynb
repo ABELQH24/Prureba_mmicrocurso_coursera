{
  "metadata": {
    "kernelspec": {
      "name": "python",
      "display_name": "Python (Pyodide)",
      "language": "python"
    },
    "language_info": {
      "codemirror_mode": {
        "name": "python",
        "version": 3
      },
      "file_extension": ".py",
      "mimetype": "text/x-python",
      "name": "python",
      "nbconvert_exporter": "python",
      "pygments_lexer": "ipython3",
      "version": "3.8"
    }
  },
  "nbformat_minor": 4,
  "nbformat": 4,
  "cells": [
    {
      "cell_type": "markdown",
      "source": "# Data Science Tools and Ecosystem",
      "metadata": {}
    },
    {
      "cell_type": "markdown",
      "source": "En este cuaderno se resumen las herramientas y el ecosistema de la Ciencia de Datos.",
      "metadata": {}
    },
    {
      "cell_type": "markdown",
      "source": "**Lenguajes de programación utilizados en Ciencia de Datos:**\n\n- Python\n- R\n- SQL\n- Julia\n- Scala",
      "metadata": {}
    },
    {
      "cell_type": "markdown",
      "source": "**Bibliotecas utilizadas en Ciencia de Datos:**\n\n- Pandas\n- NumPy\n- Matplotlib\n- Scikit-learn\n- TensorFlow",
      "metadata": {}
    },
    {
      "cell_type": "markdown",
      "source": "| Herramienta             | Descripción                         |\n|--------------------------|-------------------------------------|\n| Jupyter Notebook         | Entorno interactivo de trabajo      |\n| RStudio                  | Entorno para programación en R     |\n| Apache Zeppelin          | Plataforma de análisis colaborativo |",
      "metadata": {}
    },
    {
      "cell_type": "markdown",
      "source": "A continuación, se presentan ejemplos de expresiones aritméticas simples en Ciencia de Datos.",
      "metadata": {}
    },
    {
      "cell_type": "code",
      "source": "# Ejemplo de multiplicación y suma\n(3 * 4) + 5",
      "metadata": {
        "trusted": true
      },
      "outputs": [
        {
          "execution_count": 3,
          "output_type": "execute_result",
          "data": {
            "text/plain": "17"
          },
          "metadata": {}
        }
      ],
      "execution_count": 3
    },
    {
      "cell_type": "code",
      "source": "# Conversión de minutos a horas\nminutos = 200\nhoras = minutos / 60\nhoras\n",
      "metadata": {
        "trusted": true
      },
      "outputs": [
        {
          "execution_count": 4,
          "output_type": "execute_result",
          "data": {
            "text/plain": "3.3333333333333335"
          },
          "metadata": {}
        }
      ],
      "execution_count": 4
    },
    {
      "cell_type": "markdown",
      "source": "**Objetivos de este cuaderno:**\n\n- Identificar lenguajes utilizados en Ciencia de Datos.\n- Enumerar bibliotecas populares de Ciencia de Datos.\n- Crear tablas utilizando Markdown.\n- Realizar operaciones aritméticas básicas.\n- Convertir unidades de medida en Python.",
      "metadata": {}
    },
    {
      "cell_type": "markdown",
      "source": "**Autor:** Tu Nombre Aquí",
      "metadata": {}
    },
    {
      "cell_type": "code",
      "source": "",
      "metadata": {
        "trusted": true
      },
      "outputs": [],
      "execution_count": null
    }
  ]
}